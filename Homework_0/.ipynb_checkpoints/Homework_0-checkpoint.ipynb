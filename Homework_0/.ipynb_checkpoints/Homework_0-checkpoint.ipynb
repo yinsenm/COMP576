{
 "cells": [
  {
   "cell_type": "markdown",
   "metadata": {
    "collapsed": true
   },
   "source": [
    "\n",
    "Author: Yinsen Miao"
   ]
  },
  {
   "cell_type": "markdown",
   "metadata": {},
   "source": [
    "## Task 1"
   ]
  },
  {
   "cell_type": "code",
   "execution_count": 1,
   "metadata": {
    "scrolled": true
   },
   "outputs": [
    {
     "name": "stdout",
     "output_type": "stream",
     "text": [
      "\n",
      "     active environment : None\n",
      "       user config file : C:\\Users\\yinse\\.condarc\n",
      " populated config files : \n",
      "          conda version : 4.5.4\n",
      "    conda-build version : 3.10.5\n",
      "         python version : 2.7.15.final.0\n",
      "       base environment : C:\\ProgramData\\Anaconda2  (read only)\n",
      "           channel URLs : https://repo.anaconda.com/pkgs/main/win-64\n",
      "                          https://repo.anaconda.com/pkgs/main/noarch\n",
      "                          https://repo.anaconda.com/pkgs/free/win-64\n",
      "                          https://repo.anaconda.com/pkgs/free/noarch\n",
      "                          https://repo.anaconda.com/pkgs/r/win-64\n",
      "                          https://repo.anaconda.com/pkgs/r/noarch\n",
      "                          https://repo.anaconda.com/pkgs/pro/win-64\n",
      "                          https://repo.anaconda.com/pkgs/pro/noarch\n",
      "                          https://repo.anaconda.com/pkgs/msys2/win-64\n",
      "                          https://repo.anaconda.com/pkgs/msys2/noarch\n",
      "          package cache : C:\\ProgramData\\Anaconda2\\pkgs\n",
      "                          C:\\Users\\yinse\\AppData\\Local\\conda\\conda\\pkgs\n",
      "       envs directories : C:\\Users\\yinse\\AppData\\Local\\conda\\conda\\envs\n",
      "                          C:\\ProgramData\\Anaconda2\\envs\n",
      "                          C:\\Users\\yinse\\.conda\\envs\n",
      "               platform : win-64\n",
      "             user-agent : conda/4.5.4 requests/2.18.4 CPython/2.7.15 Windows/10 Windows/10.0.16299\n",
      "          administrator : False\n",
      "             netrc file : None\n",
      "           offline mode : False\n",
      "\n"
     ]
    }
   ],
   "source": [
    "!conda info"
   ]
  },
  {
   "cell_type": "markdown",
   "metadata": {},
   "source": [
    "## Task 2"
   ]
  },
  {
   "cell_type": "code",
   "execution_count": 2,
   "metadata": {},
   "outputs": [],
   "source": [
    "import numpy as np\n",
    "import scipy.linalg\n",
    "# let us sample a array 5 by 5 a from a standard normal distribution\n",
    "np.random.seed(2018)\n",
    "a = np.random.normal(0, 1, (5,5))"
   ]
  },
  {
   "cell_type": "code",
   "execution_count": 3,
   "metadata": {},
   "outputs": [
    {
     "data": {
      "text/plain": [
       "2"
      ]
     },
     "execution_count": 3,
     "metadata": {},
     "output_type": "execute_result"
    }
   ],
   "source": [
    "a.ndim"
   ]
  },
  {
   "cell_type": "code",
   "execution_count": 4,
   "metadata": {},
   "outputs": [
    {
     "data": {
      "text/plain": [
       "25"
      ]
     },
     "execution_count": 4,
     "metadata": {},
     "output_type": "execute_result"
    }
   ],
   "source": [
    "a.size"
   ]
  },
  {
   "cell_type": "code",
   "execution_count": 5,
   "metadata": {},
   "outputs": [
    {
     "data": {
      "text/plain": [
       "(5L, 5L)"
      ]
     },
     "execution_count": 5,
     "metadata": {},
     "output_type": "execute_result"
    }
   ],
   "source": [
    "a.shape"
   ]
  },
  {
   "cell_type": "code",
   "execution_count": 6,
   "metadata": {},
   "outputs": [
    {
     "data": {
      "text/plain": [
       "'nrows: 05, ncols: 05'"
      ]
     },
     "execution_count": 6,
     "metadata": {},
     "output_type": "execute_result"
    }
   ],
   "source": [
    "\"nrows: %02d, ncols: %02d\"%(a.shape[0], a.shape[1])"
   ]
  },
  {
   "cell_type": "code",
   "execution_count": 7,
   "metadata": {},
   "outputs": [
    {
     "name": "stdout",
     "output_type": "stream",
     "text": [
      "[[ 0.06371017  0.37062839  0.06371017  0.37062839]\n",
      " [-1.60454294 -2.16572937 -1.60454294 -2.16572937]\n",
      " [ 0.06371017  0.37062839  0.06371017  0.37062839]\n",
      " [-1.60454294 -2.16572937 -1.60454294 -2.16572937]]\n"
     ]
    }
   ],
   "source": [
    "# samole a 2 by 2 matrix b and construct a block matrix\n",
    "b = np.random.normal(0, 1, (2, 2))\n",
    "c = np.block([[b, b], [b, b]])  # construct a block matrix\n",
    "print(c)"
   ]
  },
  {
   "cell_type": "code",
   "execution_count": 8,
   "metadata": {},
   "outputs": [
    {
     "data": {
      "text/plain": [
       "array([ 0.28916512,  1.28273322, -1.0656958 , -1.70663287, -0.17279739])"
      ]
     },
     "execution_count": 8,
     "metadata": {},
     "output_type": "execute_result"
    }
   ],
   "source": [
    "a[-1] # access the last element of matrix a"
   ]
  },
  {
   "cell_type": "code",
   "execution_count": 9,
   "metadata": {},
   "outputs": [
    {
     "data": {
      "text/plain": [
       "0.4335640815380337"
      ]
     },
     "execution_count": 9,
     "metadata": {},
     "output_type": "execute_result"
    }
   ],
   "source": [
    "a[1, 4] # access element of the second row and the fifth column"
   ]
  },
  {
   "cell_type": "code",
   "execution_count": 10,
   "metadata": {},
   "outputs": [
    {
     "data": {
      "text/plain": [
       "array([ 0.8560293 , -0.14279008,  0.11007867, -0.68806479,  0.43356408])"
      ]
     },
     "execution_count": 10,
     "metadata": {},
     "output_type": "execute_result"
    }
   ],
   "source": [
    "a[1]    # acess the entire second row"
   ]
  },
  {
   "cell_type": "code",
   "execution_count": 11,
   "metadata": {},
   "outputs": [
    {
     "data": {
      "text/plain": [
       "array([[-0.2767676 ,  0.581851  ,  2.14839926, -1.279487  ,  0.50227689],\n",
       "       [ 0.8560293 , -0.14279008,  0.11007867, -0.68806479,  0.43356408],\n",
       "       [ 0.510221  , -0.16513097, -1.35177905,  0.54663075,  1.23065512],\n",
       "       [ 1.0764461 , -1.21062488, -0.30667657, -1.05741884,  0.40205692],\n",
       "       [ 0.28916512,  1.28273322, -1.0656958 , -1.70663287, -0.17279739]])"
      ]
     },
     "execution_count": 11,
     "metadata": {},
     "output_type": "execute_result"
    }
   ],
   "source": [
    "a[0:5]  # access the first five rows of a"
   ]
  },
  {
   "cell_type": "code",
   "execution_count": 12,
   "metadata": {},
   "outputs": [
    {
     "data": {
      "text/plain": [
       "array([[-0.2767676 ,  0.581851  ,  2.14839926, -1.279487  ,  0.50227689],\n",
       "       [ 0.8560293 , -0.14279008,  0.11007867, -0.68806479,  0.43356408],\n",
       "       [ 0.510221  , -0.16513097, -1.35177905,  0.54663075,  1.23065512],\n",
       "       [ 1.0764461 , -1.21062488, -0.30667657, -1.05741884,  0.40205692],\n",
       "       [ 0.28916512,  1.28273322, -1.0656958 , -1.70663287, -0.17279739]])"
      ]
     },
     "execution_count": 12,
     "metadata": {},
     "output_type": "execute_result"
    }
   ],
   "source": [
    "a[-5:]  # access the last five rows of a"
   ]
  },
  {
   "cell_type": "code",
   "execution_count": 13,
   "metadata": {},
   "outputs": [
    {
     "data": {
      "text/plain": [
       "array([[ 0.581851  ,  2.14839926, -1.279487  ],\n",
       "       [-0.14279008,  0.11007867, -0.68806479],\n",
       "       [-0.16513097, -1.35177905,  0.54663075]])"
      ]
     },
     "execution_count": 13,
     "metadata": {},
     "output_type": "execute_result"
    }
   ],
   "source": [
    "# read-only access\n",
    "a[0:3][:, 1:4]  # access rows from 1 to 3 and column from 2 to 4"
   ]
  },
  {
   "cell_type": "code",
   "execution_count": 14,
   "metadata": {},
   "outputs": [
    {
     "data": {
      "text/plain": [
       "array([[ 0.8560293 ,  0.11007867],\n",
       "       [ 1.0764461 , -0.30667657],\n",
       "       [ 0.28916512, -1.0656958 ]])"
      ]
     },
     "execution_count": 14,
     "metadata": {},
     "output_type": "execute_result"
    }
   ],
   "source": [
    "a[np.ix_([1, 3, 4], [0, 2])]"
   ]
  },
  {
   "cell_type": "code",
   "execution_count": 15,
   "metadata": {},
   "outputs": [
    {
     "data": {
      "text/plain": [
       "array([[ 0.510221  , -0.16513097, -1.35177905,  0.54663075,  1.23065512],\n",
       "       [ 0.28916512,  1.28273322, -1.0656958 , -1.70663287, -0.17279739]])"
      ]
     },
     "execution_count": 15,
     "metadata": {},
     "output_type": "execute_result"
    }
   ],
   "source": [
    "# access ever other row of a starting from the third row \n",
    "# and going to the twenty-first\n",
    "a[2:21:2, :]"
   ]
  },
  {
   "cell_type": "code",
   "execution_count": 16,
   "metadata": {},
   "outputs": [
    {
     "data": {
      "text/plain": [
       "array([[-0.2767676 ,  0.581851  ,  2.14839926, -1.279487  ,  0.50227689],\n",
       "       [ 0.510221  , -0.16513097, -1.35177905,  0.54663075,  1.23065512],\n",
       "       [ 0.28916512,  1.28273322, -1.0656958 , -1.70663287, -0.17279739]])"
      ]
     },
     "execution_count": 16,
     "metadata": {},
     "output_type": "execute_result"
    }
   ],
   "source": [
    "# access every other row of a starting from the first row\n",
    "a[::2, :]"
   ]
  },
  {
   "cell_type": "code",
   "execution_count": 17,
   "metadata": {},
   "outputs": [
    {
     "data": {
      "text/plain": [
       "array([[ 0.28916512,  1.28273322, -1.0656958 , -1.70663287, -0.17279739],\n",
       "       [ 1.0764461 , -1.21062488, -0.30667657, -1.05741884,  0.40205692],\n",
       "       [ 0.510221  , -0.16513097, -1.35177905,  0.54663075,  1.23065512],\n",
       "       [ 0.8560293 , -0.14279008,  0.11007867, -0.68806479,  0.43356408],\n",
       "       [-0.2767676 ,  0.581851  ,  2.14839926, -1.279487  ,  0.50227689]])"
      ]
     },
     "execution_count": 17,
     "metadata": {},
     "output_type": "execute_result"
    }
   ],
   "source": [
    "# a with the rows in the reverse order\n",
    "a[::-1, :]"
   ]
  },
  {
   "cell_type": "code",
   "execution_count": 18,
   "metadata": {},
   "outputs": [
    {
     "data": {
      "text/plain": [
       "array([[-0.2767676 ,  0.581851  ,  2.14839926, -1.279487  ,  0.50227689],\n",
       "       [ 0.8560293 , -0.14279008,  0.11007867, -0.68806479,  0.43356408],\n",
       "       [ 0.510221  , -0.16513097, -1.35177905,  0.54663075,  1.23065512],\n",
       "       [ 1.0764461 , -1.21062488, -0.30667657, -1.05741884,  0.40205692],\n",
       "       [ 0.28916512,  1.28273322, -1.0656958 , -1.70663287, -0.17279739],\n",
       "       [-0.2767676 ,  0.581851  ,  2.14839926, -1.279487  ,  0.50227689]])"
      ]
     },
     "execution_count": 18,
     "metadata": {},
     "output_type": "execute_result"
    }
   ],
   "source": [
    "# append the firs row of array a to the last row of a\n",
    "a[np.r_[:len(a), 0]]"
   ]
  },
  {
   "cell_type": "code",
   "execution_count": 19,
   "metadata": {},
   "outputs": [
    {
     "data": {
      "text/plain": [
       "array([[-0.2767676 ,  0.8560293 ,  0.510221  ,  1.0764461 ,  0.28916512],\n",
       "       [ 0.581851  , -0.14279008, -0.16513097, -1.21062488,  1.28273322],\n",
       "       [ 2.14839926,  0.11007867, -1.35177905, -0.30667657, -1.0656958 ],\n",
       "       [-1.279487  , -0.68806479,  0.54663075, -1.05741884, -1.70663287],\n",
       "       [ 0.50227689,  0.43356408,  1.23065512,  0.40205692, -0.17279739]])"
      ]
     },
     "execution_count": 19,
     "metadata": {},
     "output_type": "execute_result"
    }
   ],
   "source": [
    "# transpose of a\n",
    "a.transpose()"
   ]
  },
  {
   "cell_type": "code",
   "execution_count": 20,
   "metadata": {},
   "outputs": [
    {
     "data": {
      "text/plain": [
       "array([[-0.2767676 ,  0.8560293 ,  0.510221  ,  1.0764461 ,  0.28916512],\n",
       "       [ 0.581851  , -0.14279008, -0.16513097, -1.21062488,  1.28273322],\n",
       "       [ 2.14839926,  0.11007867, -1.35177905, -0.30667657, -1.0656958 ],\n",
       "       [-1.279487  , -0.68806479,  0.54663075, -1.05741884, -1.70663287],\n",
       "       [ 0.50227689,  0.43356408,  1.23065512,  0.40205692, -0.17279739]])"
      ]
     },
     "execution_count": 20,
     "metadata": {},
     "output_type": "execute_result"
    }
   ],
   "source": [
    "# conjugate transpose of a\n",
    "a.conj().T"
   ]
  },
  {
   "cell_type": "code",
   "execution_count": 21,
   "metadata": {},
   "outputs": [
    {
     "data": {
      "text/plain": [
       "array([[ 0.43878239,  1.59437874, -3.57760471,  1.62390187,  2.15597554],\n",
       "       [-0.91828227,  1.88942852,  1.42353846, -0.94921919,  0.151964  ],\n",
       "       [-0.02799457,  1.46050968,  1.42614478, -3.95641846, -1.47177377],\n",
       "       [-2.51272214,  2.64570759,  2.48974622, -0.27997824, -0.8562395 ],\n",
       "       [-1.41277998,  2.00550808,  2.91056272,  0.26439878, -1.2664206 ]])"
      ]
     },
     "execution_count": 21,
     "metadata": {},
     "output_type": "execute_result"
    }
   ],
   "source": [
    "# matrix multiply\n",
    "a.dot(a)"
   ]
  },
  {
   "cell_type": "code",
   "execution_count": 22,
   "metadata": {},
   "outputs": [
    {
     "data": {
      "text/plain": [
       "array([[0.0766003 , 0.33855059, 4.6156194 , 1.63708699, 0.25228207],\n",
       "       [0.73278615, 0.02038901, 0.01211731, 0.47343316, 0.18797781],\n",
       "       [0.26032547, 0.02726824, 1.82730659, 0.29880518, 1.51451203],\n",
       "       [1.15873622, 1.4656126 , 0.09405052, 1.1181346 , 0.16164977],\n",
       "       [0.08361647, 1.64540452, 1.13570754, 2.91259575, 0.02985894]])"
      ]
     },
     "execution_count": 22,
     "metadata": {},
     "output_type": "execute_result"
    }
   ],
   "source": [
    "# element-wise multiply\n",
    "a * a"
   ]
  },
  {
   "cell_type": "code",
   "execution_count": 23,
   "metadata": {},
   "outputs": [
    {
     "data": {
      "text/plain": [
       "array([[1., 1., 1., 1., 1.],\n",
       "       [1., 1., 1., 1., 1.],\n",
       "       [1., 1., 1., 1., 1.],\n",
       "       [1., 1., 1., 1., 1.],\n",
       "       [1., 1., 1., 1., 1.]])"
      ]
     },
     "execution_count": 23,
     "metadata": {},
     "output_type": "execute_result"
    }
   ],
   "source": [
    "# element-wise division\n",
    "a / a"
   ]
  },
  {
   "cell_type": "code",
   "execution_count": 24,
   "metadata": {},
   "outputs": [
    {
     "data": {
      "text/plain": [
       "array([[-2.12004815e-02,  1.96985999e-01,  9.91619332e+00,\n",
       "        -2.09463153e+00,  1.26715455e-01],\n",
       "       [ 6.27286416e-01, -2.91134765e-03,  1.33385761e-03,\n",
       "        -3.25752686e-01,  8.15004278e-02],\n",
       "       [ 1.32823523e-01, -4.50283081e-03, -2.47011475e+00,\n",
       "         1.63336098e-01,  1.86384198e+00],\n",
       "       [ 1.24731709e+00, -1.77430708e+00, -2.88430902e-02,\n",
       "        -1.18233660e+00,  6.49924080e-02],\n",
       "       [ 2.41789660e-02,  2.11061504e+00, -1.21031876e+00,\n",
       "        -4.97073165e+00, -5.15954680e-03]])"
      ]
     },
     "execution_count": 24,
     "metadata": {},
     "output_type": "execute_result"
    }
   ],
   "source": [
    "# element-wise exponentiation\n",
    "a ** 3"
   ]
  },
  {
   "cell_type": "code",
   "execution_count": 25,
   "metadata": {},
   "outputs": [
    {
     "data": {
      "text/plain": [
       "array([[False,  True,  True, False,  True],\n",
       "       [ True, False, False, False, False],\n",
       "       [ True, False, False,  True,  True],\n",
       "       [ True, False, False, False, False],\n",
       "       [False,  True, False, False, False]])"
      ]
     },
     "execution_count": 25,
     "metadata": {},
     "output_type": "execute_result"
    }
   ],
   "source": [
    "# element-wise comparison\n",
    "(a > 0.5)"
   ]
  },
  {
   "cell_type": "code",
   "execution_count": 26,
   "metadata": {},
   "outputs": [
    {
     "data": {
      "text/plain": [
       "(array([0, 0, 0, 1, 2, 2, 2, 3, 4], dtype=int64),\n",
       " array([1, 2, 4, 0, 0, 3, 4, 0, 1], dtype=int64))"
      ]
     },
     "execution_count": 26,
     "metadata": {},
     "output_type": "execute_result"
    }
   ],
   "source": [
    "# find the index where (a > 0.5)\n",
    "np.nonzero(a > 0.5)"
   ]
  },
  {
   "cell_type": "code",
   "execution_count": 27,
   "metadata": {},
   "outputs": [
    {
     "data": {
      "text/plain": [
       "array([-0.2767676 ,  0.581851  ,  2.14839926, -1.279487  ,  0.50227689])"
      ]
     },
     "execution_count": 27,
     "metadata": {},
     "output_type": "execute_result"
    }
   ],
   "source": [
    "# extract the columns of a where vector v > 0.5\n",
    "np.random.seed(2018)\n",
    "v = np.random.normal(0, 1, (5))\n",
    "v"
   ]
  },
  {
   "cell_type": "code",
   "execution_count": 28,
   "metadata": {},
   "outputs": [
    {
     "data": {
      "text/plain": [
       "array([[ 0.581851  ,  2.14839926,  0.50227689],\n",
       "       [-0.14279008,  0.11007867,  0.43356408],\n",
       "       [-0.16513097, -1.35177905,  1.23065512],\n",
       "       [-1.21062488, -0.30667657,  0.40205692],\n",
       "       [ 1.28273322, -1.0656958 , -0.17279739]])"
      ]
     },
     "execution_count": 28,
     "metadata": {},
     "output_type": "execute_result"
    }
   ],
   "source": [
    "a[:, np.nonzero(v > 0.5)[0]]"
   ]
  },
  {
   "cell_type": "code",
   "execution_count": 29,
   "metadata": {},
   "outputs": [
    {
     "data": {
      "text/plain": [
       "array([[ 0.581851  ,  2.14839926,  0.50227689],\n",
       "       [-0.14279008,  0.11007867,  0.43356408],\n",
       "       [-0.16513097, -1.35177905,  1.23065512],\n",
       "       [-1.21062488, -0.30667657,  0.40205692],\n",
       "       [ 1.28273322, -1.0656958 , -0.17279739]])"
      ]
     },
     "execution_count": 29,
     "metadata": {},
     "output_type": "execute_result"
    }
   ],
   "source": [
    "a[:, v.T > 0.5]"
   ]
  },
  {
   "cell_type": "code",
   "execution_count": 30,
   "metadata": {},
   "outputs": [
    {
     "data": {
      "text/plain": [
       "array([[0.        , 0.581851  , 2.14839926, 0.        , 0.50227689],\n",
       "       [0.8560293 , 0.        , 0.        , 0.        , 0.        ],\n",
       "       [0.510221  , 0.        , 0.        , 0.54663075, 1.23065512],\n",
       "       [1.0764461 , 0.        , 0.        , 0.        , 0.        ],\n",
       "       [0.        , 1.28273322, 0.        , 0.        , 0.        ]])"
      ]
     },
     "execution_count": 30,
     "metadata": {},
     "output_type": "execute_result"
    }
   ],
   "source": [
    "# zero out element of a less than 0.5\n",
    "a[a < 0.5] = 0\n",
    "a"
   ]
  },
  {
   "cell_type": "code",
   "execution_count": 31,
   "metadata": {},
   "outputs": [
    {
     "data": {
      "text/plain": [
       "array([[0.        , 0.581851  , 2.14839926, 0.        , 0.50227689],\n",
       "       [0.8560293 , 0.        , 0.        , 0.        , 0.        ],\n",
       "       [0.510221  , 0.        , 0.        , 0.54663075, 1.23065512],\n",
       "       [1.0764461 , 0.        , 0.        , 0.        , 0.        ],\n",
       "       [0.        , 1.28273322, 0.        , 0.        , 0.        ]])"
      ]
     },
     "execution_count": 31,
     "metadata": {},
     "output_type": "execute_result"
    }
   ],
   "source": [
    "# zero out element of a less than 0.5\n",
    "a * (a > 0.5)"
   ]
  },
  {
   "cell_type": "code",
   "execution_count": 32,
   "metadata": {},
   "outputs": [
    {
     "data": {
      "text/plain": [
       "array([[3., 3., 3., 3., 3.],\n",
       "       [3., 3., 3., 3., 3.],\n",
       "       [3., 3., 3., 3., 3.],\n",
       "       [3., 3., 3., 3., 3.],\n",
       "       [3., 3., 3., 3., 3.]])"
      ]
     },
     "execution_count": 32,
     "metadata": {},
     "output_type": "execute_result"
    }
   ],
   "source": [
    "# set a to the same scalar value 3\n",
    "a[:] = 3\n",
    "a"
   ]
  },
  {
   "cell_type": "code",
   "execution_count": 33,
   "metadata": {},
   "outputs": [
    {
     "data": {
      "text/plain": [
       "array([[-0.2767676 ,  0.581851  ],\n",
       "       [ 2.14839926, -1.279487  ]])"
      ]
     },
     "execution_count": 33,
     "metadata": {},
     "output_type": "execute_result"
    }
   ],
   "source": [
    "# numpy assign by reference\n",
    "np.random.seed(2018)\n",
    "x = np.random.normal(0, 1, (2, 2))\n",
    "y = x.copy()\n",
    "y"
   ]
  },
  {
   "cell_type": "code",
   "execution_count": 34,
   "metadata": {},
   "outputs": [
    {
     "data": {
      "text/plain": [
       "array([ 2.14839926, -1.279487  ])"
      ]
     },
     "execution_count": 34,
     "metadata": {},
     "output_type": "execute_result"
    }
   ],
   "source": [
    "# numpy slices by reference\n",
    "y = x[1,:].copy()\n",
    "y"
   ]
  },
  {
   "cell_type": "code",
   "execution_count": 35,
   "metadata": {},
   "outputs": [
    {
     "data": {
      "text/plain": [
       "array([-0.2767676 ,  0.581851  ,  2.14839926, -1.279487  ])"
      ]
     },
     "execution_count": 35,
     "metadata": {},
     "output_type": "execute_result"
    }
   ],
   "source": [
    "# turn array to a vector and this operation forces a copy\n",
    "y = x.flatten()\n",
    "y"
   ]
  },
  {
   "cell_type": "code",
   "execution_count": 36,
   "metadata": {},
   "outputs": [
    {
     "data": {
      "text/plain": [
       "array([ 1.,  2.,  3.,  4.,  5.,  6.,  7.,  8.,  9., 10.])"
      ]
     },
     "execution_count": 36,
     "metadata": {},
     "output_type": "execute_result"
    }
   ],
   "source": [
    "# create an increasing vector\n",
    "np.r_[1:11.]"
   ]
  },
  {
   "cell_type": "code",
   "execution_count": 37,
   "metadata": {},
   "outputs": [
    {
     "data": {
      "text/plain": [
       "array([ 1.,  2.,  3.,  4.,  5.,  6.,  7.,  8.,  9., 10.])"
      ]
     },
     "execution_count": 37,
     "metadata": {},
     "output_type": "execute_result"
    }
   ],
   "source": [
    "# create an increasing vector\n",
    "np.arange(1., 11.)"
   ]
  },
  {
   "cell_type": "code",
   "execution_count": 38,
   "metadata": {},
   "outputs": [
    {
     "data": {
      "text/plain": [
       "array([[ 1.],\n",
       "       [ 2.],\n",
       "       [ 3.],\n",
       "       [ 4.],\n",
       "       [ 5.],\n",
       "       [ 6.],\n",
       "       [ 7.],\n",
       "       [ 8.],\n",
       "       [ 9.],\n",
       "       [10.]])"
      ]
     },
     "execution_count": 38,
     "metadata": {},
     "output_type": "execute_result"
    }
   ],
   "source": [
    "# create an increasing column vector\n",
    "np.arange(1., 11.)[:, np.newaxis]"
   ]
  },
  {
   "cell_type": "code",
   "execution_count": 39,
   "metadata": {},
   "outputs": [
    {
     "data": {
      "text/plain": [
       "array([[0., 0., 0., 0.],\n",
       "       [0., 0., 0., 0.],\n",
       "       [0., 0., 0., 0.]])"
      ]
     },
     "execution_count": 39,
     "metadata": {},
     "output_type": "execute_result"
    }
   ],
   "source": [
    "# create two dimensional zero arrays\n",
    "np.zeros((3, 4))"
   ]
  },
  {
   "cell_type": "code",
   "execution_count": 40,
   "metadata": {},
   "outputs": [
    {
     "data": {
      "text/plain": [
       "array([[[0., 0., 0., 0., 0.],\n",
       "        [0., 0., 0., 0., 0.],\n",
       "        [0., 0., 0., 0., 0.],\n",
       "        [0., 0., 0., 0., 0.]],\n",
       "\n",
       "       [[0., 0., 0., 0., 0.],\n",
       "        [0., 0., 0., 0., 0.],\n",
       "        [0., 0., 0., 0., 0.],\n",
       "        [0., 0., 0., 0., 0.]],\n",
       "\n",
       "       [[0., 0., 0., 0., 0.],\n",
       "        [0., 0., 0., 0., 0.],\n",
       "        [0., 0., 0., 0., 0.],\n",
       "        [0., 0., 0., 0., 0.]]])"
      ]
     },
     "execution_count": 40,
     "metadata": {},
     "output_type": "execute_result"
    }
   ],
   "source": [
    "# create three dimensional zero arrays\n",
    "np.zeros((3, 4, 5))"
   ]
  },
  {
   "cell_type": "code",
   "execution_count": 41,
   "metadata": {},
   "outputs": [
    {
     "data": {
      "text/plain": [
       "array([[1., 0., 0.],\n",
       "       [0., 1., 0.],\n",
       "       [0., 0., 1.]])"
      ]
     },
     "execution_count": 41,
     "metadata": {},
     "output_type": "execute_result"
    }
   ],
   "source": [
    "# 3 by 3 identity matrix\n",
    "np.eye(3)"
   ]
  },
  {
   "cell_type": "code",
   "execution_count": 42,
   "metadata": {},
   "outputs": [
    {
     "data": {
      "text/plain": [
       "array([3., 3., 3., 3., 3.])"
      ]
     },
     "execution_count": 42,
     "metadata": {},
     "output_type": "execute_result"
    }
   ],
   "source": [
    "# diagnal of matrix a\n",
    "np.diag(a)"
   ]
  },
  {
   "cell_type": "code",
   "execution_count": 43,
   "metadata": {},
   "outputs": [
    {
     "data": {
      "text/plain": [
       "array([3., 3., 3., 3., 3.])"
      ]
     },
     "execution_count": 43,
     "metadata": {},
     "output_type": "execute_result"
    }
   ],
   "source": [
    "# main diagnal of matrix a\n",
    "np.diag(a, 0)"
   ]
  },
  {
   "cell_type": "code",
   "execution_count": 44,
   "metadata": {},
   "outputs": [
    {
     "data": {
      "text/plain": [
       "array([[0.8371111 , 0.69780061, 0.80280284, 0.10721508],\n",
       "       [0.75709253, 0.99967101, 0.725931  , 0.14144824],\n",
       "       [0.3567206 , 0.94270411, 0.61016189, 0.22757747]])"
      ]
     },
     "execution_count": 44,
     "metadata": {},
     "output_type": "execute_result"
    }
   ],
   "source": [
    "# create a random matrix of 3 by 4\n",
    "np.random.rand(3, 4)"
   ]
  },
  {
   "cell_type": "code",
   "execution_count": 45,
   "metadata": {},
   "outputs": [
    {
     "data": {
      "text/plain": [
       "array([1.        , 1.66666667, 2.33333333, 3.        ])"
      ]
     },
     "execution_count": 45,
     "metadata": {},
     "output_type": "execute_result"
    }
   ],
   "source": [
    "# equally spaced elements between 1 and 3 inclusive\n",
    "np.linspace(1, 3, 4)"
   ]
  },
  {
   "cell_type": "code",
   "execution_count": 46,
   "metadata": {},
   "outputs": [
    {
     "data": {
      "text/plain": [
       "array([[[0., 0., 0., 0., 0., 0.],\n",
       "        [1., 1., 1., 1., 1., 1.],\n",
       "        [2., 2., 2., 2., 2., 2.],\n",
       "        [3., 3., 3., 3., 3., 3.],\n",
       "        [4., 4., 4., 4., 4., 4.],\n",
       "        [5., 5., 5., 5., 5., 5.],\n",
       "        [6., 6., 6., 6., 6., 6.],\n",
       "        [7., 7., 7., 7., 7., 7.],\n",
       "        [8., 8., 8., 8., 8., 8.]],\n",
       "\n",
       "       [[0., 1., 2., 3., 4., 5.],\n",
       "        [0., 1., 2., 3., 4., 5.],\n",
       "        [0., 1., 2., 3., 4., 5.],\n",
       "        [0., 1., 2., 3., 4., 5.],\n",
       "        [0., 1., 2., 3., 4., 5.],\n",
       "        [0., 1., 2., 3., 4., 5.],\n",
       "        [0., 1., 2., 3., 4., 5.],\n",
       "        [0., 1., 2., 3., 4., 5.],\n",
       "        [0., 1., 2., 3., 4., 5.]]])"
      ]
     },
     "execution_count": 46,
     "metadata": {},
     "output_type": "execute_result"
    }
   ],
   "source": [
    "# create two 2D arrays: one of x values and the other of y values\n",
    "np.mgrid[0:9.0, 0:6.0]"
   ]
  },
  {
   "cell_type": "code",
   "execution_count": 47,
   "metadata": {},
   "outputs": [
    {
     "data": {
      "text/plain": [
       "[array([[0.],\n",
       "        [1.],\n",
       "        [2.],\n",
       "        [3.],\n",
       "        [4.],\n",
       "        [5.],\n",
       "        [6.],\n",
       "        [7.],\n",
       "        [8.]]), array([[0., 1., 2., 3., 4., 5.]])]"
      ]
     },
     "execution_count": 47,
     "metadata": {},
     "output_type": "execute_result"
    }
   ],
   "source": [
    "np.ogrid[0:9.0, 0:6.0]"
   ]
  },
  {
   "cell_type": "code",
   "execution_count": 48,
   "metadata": {},
   "outputs": [
    {
     "data": {
      "text/plain": [
       "[array([[1, 2, 4],\n",
       "        [1, 2, 4],\n",
       "        [1, 2, 4]]), array([[2, 2, 2],\n",
       "        [4, 4, 4],\n",
       "        [5, 5, 5]])]"
      ]
     },
     "execution_count": 48,
     "metadata": {},
     "output_type": "execute_result"
    }
   ],
   "source": [
    "np.meshgrid([1,2,4], [2,4,5])"
   ]
  },
  {
   "cell_type": "code",
   "execution_count": 49,
   "metadata": {},
   "outputs": [
    {
     "data": {
      "text/plain": [
       "(array([[1],\n",
       "        [2],\n",
       "        [4]]), array([[2, 4, 5]]))"
      ]
     },
     "execution_count": 49,
     "metadata": {},
     "output_type": "execute_result"
    }
   ],
   "source": [
    "# evaluate a function on a grid\n",
    "np.ix_([1,2,4], [2,4,5])"
   ]
  },
  {
   "cell_type": "code",
   "execution_count": 50,
   "metadata": {},
   "outputs": [
    {
     "data": {
      "text/plain": [
       "array([[-0.2767676 ,  0.581851  , -0.2767676 ,  0.581851  ],\n",
       "       [ 2.14839926, -1.279487  ,  2.14839926, -1.279487  ],\n",
       "       [-0.2767676 ,  0.581851  , -0.2767676 ,  0.581851  ],\n",
       "       [ 2.14839926, -1.279487  ,  2.14839926, -1.279487  ]])"
      ]
     },
     "execution_count": 50,
     "metadata": {},
     "output_type": "execute_result"
    }
   ],
   "source": [
    "# create a 2 by 2 copies of x\n",
    "np.tile(x, (2, 2)) "
   ]
  },
  {
   "cell_type": "code",
   "execution_count": 51,
   "metadata": {},
   "outputs": [
    {
     "data": {
      "text/plain": [
       "array([[-0.2767676 ,  0.581851  , -0.2767676 ,  0.581851  ],\n",
       "       [ 2.14839926, -1.279487  ,  2.14839926, -1.279487  ]])"
      ]
     },
     "execution_count": 51,
     "metadata": {},
     "output_type": "execute_result"
    }
   ],
   "source": [
    "# concatenate the columns of x and x\n",
    "np.concatenate((x, x), 1)"
   ]
  },
  {
   "cell_type": "code",
   "execution_count": 52,
   "metadata": {},
   "outputs": [
    {
     "data": {
      "text/plain": [
       "array([[-0.2767676 ,  0.581851  ],\n",
       "       [ 2.14839926, -1.279487  ],\n",
       "       [-0.2767676 ,  0.581851  ],\n",
       "       [ 2.14839926, -1.279487  ]])"
      ]
     },
     "execution_count": 52,
     "metadata": {},
     "output_type": "execute_result"
    }
   ],
   "source": [
    "# concatenate the rows of x and x\n",
    "np.concatenate((x, x), 0)"
   ]
  },
  {
   "cell_type": "code",
   "execution_count": 53,
   "metadata": {},
   "outputs": [
    {
     "data": {
      "text/plain": [
       "2.14839926388642"
      ]
     },
     "execution_count": 53,
     "metadata": {},
     "output_type": "execute_result"
    }
   ],
   "source": [
    "# find maximum element of array x\n",
    "x.max()"
   ]
  },
  {
   "cell_type": "code",
   "execution_count": 54,
   "metadata": {},
   "outputs": [
    {
     "data": {
      "text/plain": [
       "array([2.14839926, 0.581851  ])"
      ]
     },
     "execution_count": 54,
     "metadata": {},
     "output_type": "execute_result"
    }
   ],
   "source": [
    "# maximum element of each column of matrix a\n",
    "x.max(0)"
   ]
  },
  {
   "cell_type": "code",
   "execution_count": 55,
   "metadata": {},
   "outputs": [
    {
     "data": {
      "text/plain": [
       "array([0.581851  , 2.14839926])"
      ]
     },
     "execution_count": 55,
     "metadata": {},
     "output_type": "execute_result"
    }
   ],
   "source": [
    "# maximum element of each row of matrix a\n",
    "x.max(1)"
   ]
  },
  {
   "cell_type": "code",
   "execution_count": 56,
   "metadata": {},
   "outputs": [
    {
     "data": {
      "text/plain": [
       "array([[3.        , 4.163702  , 7.29679853, 3.        , 4.00455378],\n",
       "       [4.71205859, 3.        , 3.22015733, 3.        , 3.86712816],\n",
       "       [4.02044201, 3.        , 3.        , 4.0932615 , 5.46131024],\n",
       "       [5.15289221, 3.        , 3.        , 3.        , 3.80411384],\n",
       "       [3.57833024, 5.56546645, 3.        , 3.        , 3.        ]])"
      ]
     },
     "execution_count": 56,
     "metadata": {},
     "output_type": "execute_result"
    }
   ],
   "source": [
    "# compare a and b element-wise and return the maximum value per pair\n",
    "np.random.seed(2018)\n",
    "b = np.random.normal(3, 2, (5, 5))\n",
    "np.maximum(a, b)"
   ]
  },
  {
   "cell_type": "code",
   "execution_count": 57,
   "metadata": {},
   "outputs": [
    {
     "data": {
      "text/plain": [
       "2.630615774983453"
      ]
     },
     "execution_count": 57,
     "metadata": {},
     "output_type": "execute_result"
    }
   ],
   "source": [
    "# L2 norm of vector v\n",
    "np.linalg.norm(v)"
   ]
  },
  {
   "cell_type": "code",
   "execution_count": 58,
   "metadata": {},
   "outputs": [
    {
     "data": {
      "text/plain": [
       "array([[ True,  True,  True,  True,  True],\n",
       "       [ True,  True,  True,  True,  True],\n",
       "       [ True,  True,  True,  True,  True],\n",
       "       [ True,  True,  True,  True,  True],\n",
       "       [ True,  True,  True,  True,  True]])"
      ]
     },
     "execution_count": 58,
     "metadata": {},
     "output_type": "execute_result"
    }
   ],
   "source": [
    "# element-wise logic and\n",
    "np.logical_and(a, b)"
   ]
  },
  {
   "cell_type": "code",
   "execution_count": 59,
   "metadata": {},
   "outputs": [
    {
     "data": {
      "text/plain": [
       "array([[ True,  True,  True,  True,  True],\n",
       "       [ True,  True,  True,  True,  True],\n",
       "       [ True,  True,  True,  True,  True],\n",
       "       [ True,  True,  True,  True,  True],\n",
       "       [ True,  True,  True,  True,  True]])"
      ]
     },
     "execution_count": 59,
     "metadata": {},
     "output_type": "execute_result"
    }
   ],
   "source": [
    "# element-wise logic or\n",
    "np.logical_or(a, b)"
   ]
  },
  {
   "cell_type": "code",
   "execution_count": 60,
   "metadata": {},
   "outputs": [
    {
     "data": {
      "text/plain": [
       "5"
      ]
     },
     "execution_count": 60,
     "metadata": {},
     "output_type": "execute_result"
    }
   ],
   "source": [
    "# bitwise logic and\n",
    "5 & 5"
   ]
  },
  {
   "cell_type": "code",
   "execution_count": 61,
   "metadata": {},
   "outputs": [
    {
     "data": {
      "text/plain": [
       "13"
      ]
     },
     "execution_count": 61,
     "metadata": {},
     "output_type": "execute_result"
    }
   ],
   "source": [
    "# bitwise logic or\n",
    "5 | 12"
   ]
  },
  {
   "cell_type": "code",
   "execution_count": 62,
   "metadata": {},
   "outputs": [
    {
     "data": {
      "text/plain": [
       "array([[1.42811409, 0.64943967],\n",
       "       [2.39796047, 0.30891733]])"
      ]
     },
     "execution_count": 62,
     "metadata": {},
     "output_type": "execute_result"
    }
   ],
   "source": [
    "# inverse of matrix\n",
    "np.linalg.inv(x)"
   ]
  },
  {
   "cell_type": "code",
   "execution_count": 63,
   "metadata": {},
   "outputs": [
    {
     "data": {
      "text/plain": [
       "array([[1.42811409, 0.64943967],\n",
       "       [2.39796047, 0.30891733]])"
      ]
     },
     "execution_count": 63,
     "metadata": {},
     "output_type": "execute_result"
    }
   ],
   "source": [
    "# pseudo-inverse of matrix\n",
    "np.linalg.pinv(x)"
   ]
  },
  {
   "cell_type": "code",
   "execution_count": 64,
   "metadata": {},
   "outputs": [
    {
     "data": {
      "text/plain": [
       "2"
      ]
     },
     "execution_count": 64,
     "metadata": {},
     "output_type": "execute_result"
    }
   ],
   "source": [
    "# rank of a 2D matrix\n",
    "np.linalg.matrix_rank(x)"
   ]
  },
  {
   "cell_type": "code",
   "execution_count": 65,
   "metadata": {},
   "outputs": [
    {
     "data": {
      "text/plain": [
       "array([[-0.37725662],\n",
       "       [-0.38317169],\n",
       "       [ 0.25698226]])"
      ]
     },
     "execution_count": 65,
     "metadata": {},
     "output_type": "execute_result"
    }
   ],
   "source": [
    "# least square solver \n",
    "np.random.seed(2018)\n",
    "a = np.random.normal(0, 1, (3, 3))\n",
    "b = np.random.normal(0, 1, (3, 1))\n",
    "np.linalg.solve(a, b)"
   ]
  },
  {
   "cell_type": "code",
   "execution_count": 66,
   "metadata": {},
   "outputs": [
    {
     "data": {
      "text/plain": [
       "(array([[-0.83687903,  0.41080513,  0.36176324],\n",
       "        [-0.50613326, -0.83243348, -0.22557398],\n",
       "        [ 0.20847689, -0.37187854,  0.90456826]]),\n",
       " array([2.62228763, 1.11300036, 0.20905204]),\n",
       " array([[ 0.32393224, -0.27388646, -0.90556839],\n",
       "        [ 0.9025072 , -0.19768243,  0.38262568],\n",
       "        [ 0.28381096,  0.94122679, -0.18314879]]))"
      ]
     },
     "execution_count": 66,
     "metadata": {},
     "output_type": "execute_result"
    }
   ],
   "source": [
    "# svd of a\n",
    "U, S, Vh = np.linalg.svd(a)\n",
    "U, S, Vh"
   ]
  },
  {
   "cell_type": "code",
   "execution_count": 67,
   "metadata": {},
   "outputs": [
    {
     "data": {
      "text/plain": [
       "array([[ 1.31271947, -0.97468426, -0.10877425],\n",
       "       [ 0.        ,  1.24590027,  0.00325718],\n",
       "       [ 0.        ,  0.        ,  1.1402161 ]])"
      ]
     },
     "execution_count": 67,
     "metadata": {},
     "output_type": "execute_result"
    }
   ],
   "source": [
    "# upper Cholesky factor of matrix a\n",
    "np.linalg.cholesky(a + 2*np.eye(3)).T"
   ]
  },
  {
   "cell_type": "code",
   "execution_count": 68,
   "metadata": {},
   "outputs": [
    {
     "data": {
      "text/plain": [
       "(array([ 0.12854271+0.91176604j,  0.12854271-0.91176604j,\n",
       "        -0.71964092+0.j        ]),\n",
       " array([[-0.27807545+0.54936403j, -0.27807545-0.54936403j,\n",
       "         -0.5324129 +0.j        ],\n",
       "        [-0.78441944+0.j        , -0.78441944-0.j        ,\n",
       "         -0.78293363+0.j        ],\n",
       "        [-0.07316288-0.01437202j, -0.07316288+0.01437202j,\n",
       "          0.32179409+0.j        ]]))"
      ]
     },
     "execution_count": 68,
     "metadata": {},
     "output_type": "execute_result"
    }
   ],
   "source": [
    "# eigenvalues and eigenvectors of a\n",
    "D, V = np.linalg.eig(a)\n",
    "D, V"
   ]
  },
  {
   "cell_type": "code",
   "execution_count": 69,
   "metadata": {},
   "outputs": [
    {
     "data": {
      "text/plain": [
       "(array([[-0.21017504,  0.97111016, -0.11301111],\n",
       "        [-0.97163193, -0.22029868, -0.08602259],\n",
       "        [-0.10843361,  0.09172541,  0.98986292]]),\n",
       " array([[ 1.31684331, -0.62225505, -1.20867595],\n",
       "        [ 0.        ,  0.46448749,  1.8346372 ],\n",
       "        [ 0.        ,  0.        , -0.99752068]]))"
      ]
     },
     "execution_count": 69,
     "metadata": {},
     "output_type": "execute_result"
    }
   ],
   "source": [
    "# QR decomposition of matrix a\n",
    "Q, R = scipy.linalg.qr(a)\n",
    "Q, R"
   ]
  },
  {
   "cell_type": "code",
   "execution_count": 70,
   "metadata": {},
   "outputs": [
    {
     "data": {
      "text/plain": [
       "(array([[0., 1., 0.],\n",
       "        [1., 0., 0.],\n",
       "        [0., 0., 1.]]), array([[1.        , 0.        , 0.        ],\n",
       "        [0.21631138, 1.        , 0.        ],\n",
       "        [0.11159947, 0.11416845, 1.        ]]), array([[-1.279487  ,  0.50227689,  0.8560293 ],\n",
       "        [ 0.        ,  0.4732028 ,  1.96323039],\n",
       "        [ 0.        ,  0.        , -1.00773618]]))"
      ]
     },
     "execution_count": 70,
     "metadata": {},
     "output_type": "execute_result"
    }
   ],
   "source": [
    "# LU decomposition of matrix a\n",
    "P, L, U = scipy.linalg.lu(a)\n",
    "P, L, U"
   ]
  },
  {
   "cell_type": "code",
   "execution_count": null,
   "metadata": {},
   "outputs": [],
   "source": []
  },
  {
   "cell_type": "code",
   "execution_count": null,
   "metadata": {},
   "outputs": [],
   "source": []
  },
  {
   "cell_type": "code",
   "execution_count": 71,
   "metadata": {},
   "outputs": [
    {
     "data": {
      "text/plain": [
       "array([[-0.2767676 ,  0.581851  ],\n",
       "       [-1.279487  ,  2.14839926]])"
      ]
     },
     "execution_count": 71,
     "metadata": {},
     "output_type": "execute_result"
    }
   ],
   "source": [
    "# sort the matrix by row\n",
    "np.sort(x)"
   ]
  },
  {
   "cell_type": "code",
   "execution_count": null,
   "metadata": {},
   "outputs": [],
   "source": [
    "# multilinear regression\n",
    "np.linalg.lstsq(a, b, rcond=None)"
   ]
  },
  {
   "cell_type": "code",
   "execution_count": null,
   "metadata": {},
   "outputs": [],
   "source": [
    "# downsample with low-pass filtering\n",
    "np.random.seed(2018)\n",
    "x = np.random.normal(0, 1, (1000, 1))\n",
    "#scipy.signal.resample(x, 20)"
   ]
  },
  {
   "cell_type": "code",
   "execution_count": null,
   "metadata": {},
   "outputs": [],
   "source": [
    "# unique element in array a\n",
    "np.unique(a)"
   ]
  },
  {
   "cell_type": "code",
   "execution_count": null,
   "metadata": {},
   "outputs": [],
   "source": [
    "# squeeze\n",
    "s = np.array([[1],[2],[3]])\n",
    "s"
   ]
  },
  {
   "cell_type": "code",
   "execution_count": null,
   "metadata": {},
   "outputs": [],
   "source": [
    "s.squeeze()"
   ]
  },
  {
   "cell_type": "markdown",
   "metadata": {},
   "source": [
    "## Task 3"
   ]
  },
  {
   "cell_type": "code",
   "execution_count": null,
   "metadata": {},
   "outputs": [],
   "source": [
    "%matplotlib inline\n",
    "import matplotlib.pyplot as plt\n",
    "# plot task 3\n",
    "plt.plot([1,2,3,4], [1,2,7,14])\n",
    "plt.axis([0, 6, 0, 20])\n",
    "plt.show()"
   ]
  },
  {
   "cell_type": "markdown",
   "metadata": {},
   "source": [
    "## Task 4"
   ]
  },
  {
   "cell_type": "code",
   "execution_count": null,
   "metadata": {},
   "outputs": [],
   "source": [
    "# plot the histogram of a normal distribution\n",
    "samples = np.random.normal(0, 1, 1000)\n",
    "plt.hist(samples)\n",
    "plt.show()"
   ]
  },
  {
   "cell_type": "markdown",
   "metadata": {},
   "source": [
    "## Task 5\n",
    "\n",
    "My github account is **yinsenm**."
   ]
  },
  {
   "cell_type": "markdown",
   "metadata": {},
   "source": [
    "## Task 6\n",
    "The github link to my reposistory is https://github.com/yinsenm/COMP576  ."
   ]
  }
 ],
 "metadata": {
  "kernelspec": {
   "display_name": "Python 2",
   "language": "python",
   "name": "python2"
  },
  "language_info": {
   "codemirror_mode": {
    "name": "ipython",
    "version": 2
   },
   "file_extension": ".py",
   "mimetype": "text/x-python",
   "name": "python",
   "nbconvert_exporter": "python",
   "pygments_lexer": "ipython2",
   "version": "2.7.15"
  }
 },
 "nbformat": 4,
 "nbformat_minor": 1
}
